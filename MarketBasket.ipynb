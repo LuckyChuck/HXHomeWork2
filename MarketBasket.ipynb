{
 "cells": [
  {
   "cell_type": "code",
   "execution_count": 1,
   "metadata": {},
   "outputs": [],
   "source": [
    "import pandas as pd\n",
    "import numpy as np\n",
    "\n",
    "#数据加载 不知道什么原因导致相对路径不好使，读取不到文件，只能用绝对路径读取，影响不大\n",
    "dataset = pd.read_csv('c:/Users/Dracula/Desktop/开课吧作业/HXHomeWork2/Market_Basket_Optimisation.csv',header=None)\n",
    "# print(dataset.head())\n",
    "# print(dataset.shape[0])\n",
    "\n",
    "#把数据存放到transaction中\n",
    "transaction = []\n",
    "for i in range(0,dataset.shape[0]):\n",
    "    temp = []\n",
    "    for j in range(0,dataset.shape[1]):\n",
    "        #数据预处理，将nan过滤掉并且将内容全部小写以避免因大小写而产生的分组问题\n",
    "        if str(dataset.values[i,j]) !='nan' : \n",
    "            temp.append(str(dataset.values[i,j]).lower())\n",
    "    transaction.append(temp)\n"
   ]
  },
  {
   "cell_type": "code",
   "execution_count": 2,
   "metadata": {},
   "outputs": [],
   "source": [
    "def efficient_apriori_func():\n",
    "    from efficient_apriori import apriori\n",
    "    itemsets , rules = apriori(transaction,min_support=0.02,min_confidence=0.3)\n",
    "    print('频繁项集:',itemsets)\n",
    "    print('频繁项集大小:',len(itemsets[1])+len(itemsets[2]))\n",
    "    print('关联规则:',rules) \n",
    "    print('关联规则大小:',len(rules)) "
   ]
  },
  {
   "cell_type": "code",
   "execution_count": 3,
   "metadata": {},
   "outputs": [],
   "source": [
    "#导包，详细版mlxtend\n",
    "def mlxtend_appriori_func():\n",
    "    from mlxtend.frequent_patterns import apriori\n",
    "    from mlxtend.frequent_patterns import association_rules   \n",
    "    from mlxtend.preprocessing import TransactionEncoder\t\n",
    "    #pd.options.display.max_columns=100\n",
    "    # 定义模型，因为mlxtend的数据参数有特定模式，这里必须进行独热编码\n",
    "    te = TransactionEncoder()\t\n",
    "    transaction_tf=te.fit_transform(transaction)\n",
    "    dfs = pd.DataFrame(transaction_tf,columns=te.columns_)\n",
    "    # print(dfs)\n",
    "    #利用apriori函数进行调用计算\n",
    "    itemsets = apriori(dfs,min_support=0.02,use_colnames=True)\n",
    "    #此处为了对比，不用lift进行计算，而用了和对比组相同的置信度进行计算，均为置信度=0.3\n",
    "    rules = association_rules(itemsets, metric=\"confidence\", min_threshold=0.3)\n",
    "    print(\"频繁项集：\", itemsets)\n",
    "    print(\"关联规则：\", rules[ (rules['lift'] >= 1) & (rules['confidence'] >= 0.3) ])\n",
    "    # print(\"关联规则：\",rules)\n",
    "    # print(rules['confidence'])"
   ]
  },
  {
   "cell_type": "code",
   "execution_count": 6,
   "metadata": {},
   "outputs": [
    {
     "name": "stdout",
     "output_type": "stream",
     "text": [
      "频繁项集: {1: {('energy drink',): 200, ('vegetables mix',): 193, ('mineral water',): 1788, ('low fat yogurt',): 574, ('frozen smoothie',): 475, ('shrimp',): 536, ('salmon',): 319, ('cottage cheese',): 239, ('almonds',): 153, ('honey',): 356, ('green tea',): 991, ('olive oil',): 494, ('tomato juice',): 228, ('avocado',): 250, ('burgers',): 654, ('meatballs',): 157, ('eggs',): 1348, ('turkey',): 469, ('whole wheat rice',): 439, ('energy bar',): 203, ('milk',): 972, ('french fries',): 1282, ('whole wheat pasta',): 221, ('soup',): 379, ('spaghetti',): 1306, ('frozen vegetables',): 715, ('cookies',): 603, ('cooking oil',): 383, ('champagne',): 351, ('chocolate',): 1229, ('oil',): 173, ('chicken',): 450, ('fresh tuna',): 167, ('tomatoes',): 513, ('pepper',): 199, ('red wine',): 211, ('ham',): 199, ('pancakes',): 713, ('grated cheese',): 393, ('fresh bread',): 323, ('ground beef',): 737, ('escalope',): 595, ('herb & pepper',): 371, ('strawberries',): 160, ('cake',): 608, ('hot dogs',): 243, ('brownies',): 253, ('cereals',): 193, ('muffins',): 181, ('light mayo',): 204, ('yogurt cake',): 205, ('butter',): 226, ('french wine',): 169}, 2: {('frozen smoothie', 'mineral water'): 152, ('green tea', 'mineral water'): 233, ('low fat yogurt', 'mineral water'): 180, ('mineral water', 'olive oil'): 207, ('mineral water', 'shrimp'): 177, ('burgers', 'eggs'): 216, ('milk', 'mineral water'): 360, ('mineral water', 'whole wheat rice'): 151, ('frozen vegetables', 'spaghetti'): 209, ('green tea', 'spaghetti'): 199, ('burgers', 'mineral water'): 183, ('cooking oil', 'mineral water'): 151, ('eggs', 'mineral water'): 382, ('chicken', 'mineral water'): 171, ('eggs', 'spaghetti'): 274, ('mineral water', 'spaghetti'): 448, ('mineral water', 'tomatoes'): 183, ('spaghetti', 'tomatoes'): 157, ('french fries', 'milk'): 178, ('chocolate', 'eggs'): 249, ('mineral water', 'pancakes'): 253, ('pancakes', 'spaghetti'): 189, ('milk', 'spaghetti'): 266, ('ground beef', 'milk'): 165, ('ground beef', 'mineral water'): 307, ('ground beef', 'spaghetti'): 294, ('chocolate', 'french fries'): 258, ('chocolate', 'mineral water'): 395, ('eggs', 'french fries'): 273, ('french fries', 'mineral water'): 253, ('frozen vegetables', 'mineral water'): 268, ('chocolate', 'frozen vegetables'): 172, ('cake', 'mineral water'): 206, ('french fries', 'green tea'): 214, ('french fries', 'pancakes'): 151, ('chocolate', 'green tea'): 176, ('chocolate', 'spaghetti'): 294, ('chocolate', 'ground beef'): 173, ('chocolate', 'milk'): 241, ('frozen vegetables', 'milk'): 177, ('mineral water', 'soup'): 173, ('olive oil', 'spaghetti'): 172, ('burgers', 'french fries'): 165, ('burgers', 'spaghetti'): 161, ('french fries', 'spaghetti'): 207, ('shrimp', 'spaghetti'): 159, ('eggs', 'green tea'): 191, ('eggs', 'milk'): 231, ('eggs', 'pancakes'): 163, ('eggs', 'frozen vegetables'): 163}}\n",
      "频繁项集大小: 103\n",
      "关联规则: [{frozen smoothie} -> {mineral water}, {low fat yogurt} -> {mineral water}, {olive oil} -> {mineral water}, {shrimp} -> {mineral water}, {burgers} -> {eggs}, {milk} -> {mineral water}, {whole wheat rice} -> {mineral water}, {cooking oil} -> {mineral water}, {chicken} -> {mineral water}, {spaghetti} -> {mineral water}, {tomatoes} -> {mineral water}, {tomatoes} -> {spaghetti}, {pancakes} -> {mineral water}, {ground beef} -> {mineral water}, {ground beef} -> {spaghetti}, {chocolate} -> {mineral water}, {frozen vegetables} -> {mineral water}, {cake} -> {mineral water}, {soup} -> {mineral water}, {olive oil} -> {spaghetti}]\n",
      "关联规则大小: 20\n"
     ]
    }
   ],
   "source": [
    "#调用函数，经过对比可得两种计算结果相同，频繁项集103个，关联规则20个，经仔细校验，20条关联规则完全相同\n",
    "efficient_apriori_func()"
   ]
  },
  {
   "cell_type": "code",
   "execution_count": 7,
   "metadata": {},
   "outputs": [
    {
     "name": "stdout",
     "output_type": "stream",
     "text": [
      "频繁项集：       support                           itemsets\n",
      "0    0.020397                          (almonds)\n",
      "1    0.033329                          (avocado)\n",
      "2    0.033729                         (brownies)\n",
      "3    0.087188                          (burgers)\n",
      "4    0.030129                           (butter)\n",
      "..        ...                                ...\n",
      "98   0.020131  (mineral water, whole wheat rice)\n",
      "99   0.022930             (spaghetti, olive oil)\n",
      "100  0.025197              (spaghetti, pancakes)\n",
      "101  0.021197                (spaghetti, shrimp)\n",
      "102  0.020931              (tomatoes, spaghetti)\n",
      "\n",
      "[103 rows x 2 columns]\n",
      "关联规则：             antecedents      consequents  antecedent support  \\\n",
      "0             (burgers)           (eggs)            0.087188   \n",
      "1                (cake)  (mineral water)            0.081056   \n",
      "2             (chicken)  (mineral water)            0.059992   \n",
      "3           (chocolate)  (mineral water)            0.163845   \n",
      "4         (cooking oil)  (mineral water)            0.051060   \n",
      "5     (frozen smoothie)  (mineral water)            0.063325   \n",
      "6   (frozen vegetables)  (mineral water)            0.095321   \n",
      "7         (ground beef)  (mineral water)            0.098254   \n",
      "8         (ground beef)      (spaghetti)            0.098254   \n",
      "9      (low fat yogurt)  (mineral water)            0.076523   \n",
      "10               (milk)  (mineral water)            0.129583   \n",
      "11          (olive oil)  (mineral water)            0.065858   \n",
      "12           (pancakes)  (mineral water)            0.095054   \n",
      "13             (shrimp)  (mineral water)            0.071457   \n",
      "14               (soup)  (mineral water)            0.050527   \n",
      "15          (spaghetti)  (mineral water)            0.174110   \n",
      "16           (tomatoes)  (mineral water)            0.068391   \n",
      "17   (whole wheat rice)  (mineral water)            0.058526   \n",
      "18          (olive oil)      (spaghetti)            0.065858   \n",
      "19           (tomatoes)      (spaghetti)            0.068391   \n",
      "\n",
      "    consequent support   support  confidence      lift  leverage  conviction  \n",
      "0             0.179709  0.028796    0.330275  1.837830  0.013128    1.224818  \n",
      "1             0.238368  0.027463    0.338816  1.421397  0.008142    1.151921  \n",
      "2             0.238368  0.022797    0.380000  1.594172  0.008497    1.228438  \n",
      "3             0.238368  0.052660    0.321400  1.348332  0.013604    1.122357  \n",
      "4             0.238368  0.020131    0.394256  1.653978  0.007960    1.257349  \n",
      "5             0.238368  0.020264    0.320000  1.342461  0.005169    1.120047  \n",
      "6             0.238368  0.035729    0.374825  1.572463  0.013007    1.218270  \n",
      "7             0.238368  0.040928    0.416554  1.747522  0.017507    1.305401  \n",
      "8             0.174110  0.039195    0.398915  2.291162  0.022088    1.373997  \n",
      "9             0.238368  0.023997    0.313589  1.315565  0.005756    1.109585  \n",
      "10            0.238368  0.047994    0.370370  1.553774  0.017105    1.209650  \n",
      "11            0.238368  0.027596    0.419028  1.757904  0.011898    1.310962  \n",
      "12            0.238368  0.033729    0.354839  1.488616  0.011071    1.180529  \n",
      "13            0.238368  0.023597    0.330224  1.385352  0.006564    1.137144  \n",
      "14            0.238368  0.023064    0.456464  1.914955  0.011020    1.401255  \n",
      "15            0.238368  0.059725    0.343032  1.439085  0.018223    1.159314  \n",
      "16            0.238368  0.024397    0.356725  1.496530  0.008095    1.183991  \n",
      "17            0.238368  0.020131    0.343964  1.442993  0.006180    1.160960  \n",
      "18            0.174110  0.022930    0.348178  1.999758  0.011464    1.267048  \n",
      "19            0.174110  0.020931    0.306043  1.757755  0.009023    1.190117  \n"
     ]
    }
   ],
   "source": [
    "mlxtend_appriori_func()"
   ]
  },
  {
   "cell_type": "code",
   "execution_count": null,
   "metadata": {},
   "outputs": [],
   "source": []
  }
 ],
 "metadata": {
  "kernelspec": {
   "display_name": "Python 3",
   "language": "python",
   "name": "python3"
  },
  "language_info": {
   "codemirror_mode": {
    "name": "ipython",
    "version": 3
   },
   "file_extension": ".py",
   "mimetype": "text/x-python",
   "name": "python",
   "nbconvert_exporter": "python",
   "pygments_lexer": "ipython3",
   "version": "3.7.4"
  }
 },
 "nbformat": 4,
 "nbformat_minor": 2
}
